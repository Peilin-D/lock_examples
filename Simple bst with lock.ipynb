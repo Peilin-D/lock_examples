{
 "cells": [
  {
   "cell_type": "markdown",
   "metadata": {},
   "source": [
    "### Simple bst with lock"
   ]
  },
  {
   "cell_type": "markdown",
   "metadata": {},
   "source": [
    "The idea is to use a lock on each node. Grab the lock on read or write, and release it when finished. The code below might be problemetic because Concurrent program is very hard to test, but I believe the program should be able to give you right results on insertion. For deletion, I couldn't guarantee its correctness.\n",
    "\n",
    "I think you should also implement an iterator, which I'm not quite sure how to do for now, but it should be similar to get() in the following code."
   ]
  },
  {
   "cell_type": "code",
   "execution_count": 22,
   "metadata": {
    "collapsed": false
   },
   "outputs": [],
   "source": [
    "from threading import Thread\n",
    "from threading import Lock"
   ]
  },
  {
   "cell_type": "code",
   "execution_count": 41,
   "metadata": {
    "collapsed": false
   },
   "outputs": [],
   "source": [
    "class TreeNode:\n",
    "    def __init__(self, key, val, left=None, right=None, parent=None):\n",
    "        self.key = key\n",
    "        self.val = val\n",
    "        self.left = left\n",
    "        self.right = right\n",
    "        self.parent = parent\n",
    "        # lock per node\n",
    "        self.lock = Lock()\n",
    "        \n",
    "class Tree:\n",
    "    def __init__(self, root):\n",
    "        self.root = root\n",
    "        \n",
    "    def set(self, key, val):\n",
    "        if self.root is None:\n",
    "            self.root = TreeNode(key, val)\n",
    "        self._update(self.root, key, val)\n",
    "    \n",
    "    def _update(self, node, key, val):\n",
    "        try:\n",
    "            node.lock.acquire()\n",
    "        except AttributeError:\n",
    "            return\n",
    "        if node.left is None and key < node.key:\n",
    "            node.left = TreeNode(key, val, parent=node)\n",
    "            node.lock.release()\n",
    "        elif node.right is None and key > node.key:\n",
    "            node.right = TreeNode(key, val, parent=node)\n",
    "            node.lock.release()\n",
    "        elif node.key == key:\n",
    "            node.val = val\n",
    "            node.lock.release()\n",
    "        elif node.key < key:\n",
    "            node.lock.release()\n",
    "            self._update(node.right, key, val)\n",
    "        else:\n",
    "            node.lock.release()\n",
    "            self._update(node.left, key, val)\n",
    "        \n",
    "    def delete(self, key):\n",
    "        self._del(self.root, key)\n",
    "    \n",
    "    def _del(self, node, key):\n",
    "        try:\n",
    "            node.lock.acquire()\n",
    "        except AttributeError:\n",
    "            return\n",
    "        if node.key == key:\n",
    "            if node.left is None and node.right is None:\n",
    "                node.parent.lock.acquire()\n",
    "                if node is node.parent.left:\n",
    "                    node.parent.left = None\n",
    "                else:\n",
    "                    node.parent.right = None\n",
    "                node.parent.lock.release()\n",
    "                node.lock.release()\n",
    "            elif node.left is not None:\n",
    "                cur = node.left\n",
    "                while cur is not None and cur.right is not None:\n",
    "                    cur = cur.right\n",
    "                if cur is not None:\n",
    "                    cur.lock.acquire()\n",
    "                    node.key = cur.key\n",
    "                    node.val = cur.val\n",
    "                    cur.lock.release()\n",
    "                    node.lock.release()\n",
    "                    self._del(cur, cur.key)\n",
    "            else:\n",
    "                cur = node.right\n",
    "                while cur is not None and cur.left is not None:\n",
    "                    cur = cur.left\n",
    "                if cur is not None:\n",
    "                    cur.lock.acquire()\n",
    "                    node.key = cur.key\n",
    "                    node.val = cur.val\n",
    "                    cur.lock.release()\n",
    "                    node.lock.release()\n",
    "                    self._del(cur, cur.key)\n",
    "        elif node.key < key:\n",
    "            node.lock.release()\n",
    "            self._del(node.right, key)\n",
    "        else:\n",
    "            node.lock.release()\n",
    "            self._del(node.left, key)\n",
    "                \n",
    "    def get(self, key):\n",
    "        node = self.root\n",
    "        while node is not None:\n",
    "            try:\n",
    "                node.lock.acquire()\n",
    "            except AttributeError:\n",
    "                break\n",
    "            if key < node.key:\n",
    "                tmpNode = node\n",
    "                node = node.left\n",
    "                tmpNode.lock.release()\n",
    "            elif key > node.key:\n",
    "                tmpNode = node\n",
    "                node = node.right\n",
    "                tmpNode.lock.release()\n",
    "            else:\n",
    "                val = node.val\n",
    "                node.lock.release()\n",
    "                return val\n",
    "        raise KeyError('No such key')\n",
    "\n",
    "    "
   ]
  },
  {
   "cell_type": "code",
   "execution_count": 42,
   "metadata": {
    "collapsed": false
   },
   "outputs": [],
   "source": [
    "root = TreeNode(0, 0)\n",
    "tree = Tree(root)"
   ]
  },
  {
   "cell_type": "code",
   "execution_count": 43,
   "metadata": {
    "collapsed": true
   },
   "outputs": [],
   "source": [
    "def write(tree, key, val):\n",
    "    tree.set(key, val)\n",
    "    \n",
    "def read(tree, key):\n",
    "    print (key, tree.get(key))\n",
    "    \n",
    "def delete(tree, key):\n",
    "    tree.delete(key)"
   ]
  },
  {
   "cell_type": "code",
   "execution_count": 44,
   "metadata": {
    "collapsed": false
   },
   "outputs": [],
   "source": [
    "Thread(target=write, args=(tree, 1, 1)).start()\n",
    "Thread(target=write, args=(tree, 2, 2)).start()\n",
    "Thread(target=write, args=(tree, 3, 3)).start()\n",
    "Thread(target=write, args=(tree, 4, 4)).start()"
   ]
  },
  {
   "cell_type": "code",
   "execution_count": 45,
   "metadata": {
    "collapsed": false
   },
   "outputs": [
    {
     "name": "stdout",
     "output_type": "stream",
     "text": [
      "(1, 1)\n",
      "(2, 2)\n",
      "(3, 3)\n",
      "(4, 4)\n"
     ]
    }
   ],
   "source": [
    "Thread(target=read, args=(tree, 1)).start()\n",
    "Thread(target=read, args=(tree, 2)).start()\n",
    "Thread(target=read, args=(tree, 3)).start()\n",
    "Thread(target=read, args=(tree, 4)).start()"
   ]
  }
 ],
 "metadata": {
  "kernelspec": {
   "display_name": "Python 2",
   "language": "python",
   "name": "python2"
  },
  "language_info": {
   "codemirror_mode": {
    "name": "ipython",
    "version": 2
   },
   "file_extension": ".py",
   "mimetype": "text/x-python",
   "name": "python",
   "nbconvert_exporter": "python",
   "pygments_lexer": "ipython2",
   "version": "2.7.12"
  }
 },
 "nbformat": 4,
 "nbformat_minor": 0
}
